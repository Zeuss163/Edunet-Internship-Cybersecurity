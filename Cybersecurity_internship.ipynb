{
 "cells": [
  {
   "cell_type": "markdown",
   "id": "f71dbc21-d7d2-45e9-920e-f498af3f8a8c",
   "metadata": {},
   "source": [
    "### Step1: Import libraries"
   ]
  },
  {
   "cell_type": "code",
   "execution_count": 2,
   "id": "5c789147-8b65-48a7-acea-27c921415871",
   "metadata": {},
   "outputs": [],
   "source": [
    "from PIL import Image\n",
    "import numpy as np\n",
    "import matplotlib.pyplot as plt"
   ]
  },
  {
   "cell_type": "markdown",
   "id": "2e2bc3a3-6044-49d9-970f-997a77c90c43",
   "metadata": {},
   "source": [
    "### Step2: Convert text to binary"
   ]
  },
  {
   "cell_type": "code",
   "execution_count": 6,
   "id": "31896ea1-004b-4702-b21e-8374229ac0bd",
   "metadata": {},
   "outputs": [],
   "source": [
    "def text_to_binary(text):\n",
    "    return ''.join(format(ord(char), '08b') for char in text)"
   ]
  },
  {
   "cell_type": "markdown",
   "id": "724ff22d-a22c-45a2-8637-1170ba7f097a",
   "metadata": {},
   "source": [
    "### Step3:Convert Binary to text"
   ]
  },
  {
   "cell_type": "code",
   "execution_count": 11,
   "id": "a098e2c5-f249-4946-a43c-6f9df72c1886",
   "metadata": {},
   "outputs": [],
   "source": [
    "def binary_to_text(binary_data):\n",
    "    chars = [binary_data[i:i+8] for i in range(0, len(binary_data), 8)]\n",
    "    return ''.join(chr(int(char, 2)) for char in chars if len(char) == 8)"
   ]
  },
  {
   "cell_type": "markdown",
   "id": "f9742468-fee8-482b-a212-69a071c58f1e",
   "metadata": {},
   "source": [
    "### Step4:Encode message into image using LSB"
   ]
  },
  {
   "cell_type": "code",
   "execution_count": 14,
   "id": "8bd308a6-43c4-477a-b73c-f131bc3dedc0",
   "metadata": {},
   "outputs": [],
   "source": [
    "def encode_image(image_path, secret_message, output_path):\n",
    "    img = Image.open(image_path).convert(\"RGB\")\n",
    "    data = np.array(img)\n",
    "\n",
    "    binary_secret = text_to_binary(secret_message) + '1111111111111110'  # EOF marker\n",
    "    flat_data = data.flatten().astype(np.uint16)\n",
    "\n",
    "    if len(binary_secret) > len(flat_data):\n",
    "        raise ValueError(\"Message too long for this image!\")\n",
    "\n",
    "    for i in range(len(binary_secret)):\n",
    "        flat_data[i] = (flat_data[i] & 0xFFFE) | int(binary_secret[i])\n",
    "\n",
    "    new_data = flat_data.astype(np.uint8).reshape(data.shape)\n",
    "    Image.fromarray(new_data).save(output_path)\n",
    "    print(f\"✅ Message successfully encoded in: {output_path}\")\n",
    "\n",
    "    # Show Encoded Image\n",
    "    plt.imshow(Image.open(output_path))\n",
    "    plt.axis('off')\n",
    "    plt.title(\"🖼️ Encoded Image (subtle changes)\")\n",
    "    plt.show()"
   ]
  },
  {
   "cell_type": "markdown",
   "id": "b3bf1104-a108-488d-aaec-22e08481fd76",
   "metadata": {},
   "source": [
    "### Step5:Decode hidden message from stego image"
   ]
  },
  {
   "cell_type": "code",
   "execution_count": 17,
   "id": "737840ea-14f8-40e8-a126-b971e3e3e3a3",
   "metadata": {},
   "outputs": [],
   "source": [
    "def decode_image(stego_image_path):\n",
    "    img = Image.open(stego_image_path).convert(\"RGB\")\n",
    "    data = np.array(img).flatten()\n",
    "\n",
    "    binary_data = ''.join(str(value & 1) for value in data)\n",
    "    eof = binary_data.find('1111111111111110')\n",
    "\n",
    "    if eof != -1:\n",
    "        binary_data = binary_data[:eof]\n",
    "    else:\n",
    "        print(\"⚠️ End-of-message marker not found. Output may be corrupted.\")\n",
    "\n",
    "    return binary_to_text(binary_data)"
   ]
  },
  {
   "cell_type": "markdown",
   "id": "88969482-74ec-4908-a256-dc83cfa9a8ae",
   "metadata": {},
   "source": [
    "### Step6: Show Difference Image"
   ]
  },
  {
   "cell_type": "code",
   "execution_count": 22,
   "id": "b7b00cfd-043a-4489-ac37-8f3a7560c9d2",
   "metadata": {},
   "outputs": [],
   "source": [
    "def show_difference(original_path, stego_path):\n",
    "    original = np.array(Image.open(original_path))\n",
    "    stego = np.array(Image.open(stego_path))\n",
    "    diff = np.abs(original.astype(int) - stego.astype(int))\n",
    "\n",
    "    plt.imshow(diff)\n",
    "    plt.axis('off')\n",
    "    plt.title(\"🔍 Difference Image (changes are subtle)\")\n",
    "    plt.show()"
   ]
  },
  {
   "cell_type": "code",
   "execution_count": null,
   "id": "0e11bcca-67a6-46d1-a335-dea6aa37814a",
   "metadata": {},
   "outputs": [],
   "source": []
  }
 ],
 "metadata": {
  "kernelspec": {
   "display_name": "Python 3 (ipykernel)",
   "language": "python",
   "name": "python3"
  },
  "language_info": {
   "codemirror_mode": {
    "name": "ipython",
    "version": 3
   },
   "file_extension": ".py",
   "mimetype": "text/x-python",
   "name": "python",
   "nbconvert_exporter": "python",
   "pygments_lexer": "ipython3",
   "version": "3.12.4"
  }
 },
 "nbformat": 4,
 "nbformat_minor": 5
}
